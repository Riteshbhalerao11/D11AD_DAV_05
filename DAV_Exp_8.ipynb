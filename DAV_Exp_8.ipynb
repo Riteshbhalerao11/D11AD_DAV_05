{
  "nbformat": 4,
  "nbformat_minor": 0,
  "metadata": {
    "colab": {
      "provenance": []
    },
    "kernelspec": {
      "name": "python3",
      "display_name": "Python 3"
    },
    "language_info": {
      "name": "python"
    }
  },
  "cells": [
    {
      "cell_type": "code",
      "execution_count": 1,
      "metadata": {
        "colab": {
          "base_uri": "https://localhost:8080/",
          "height": 34
        },
        "id": "nR3HG1LdPcxd",
        "outputId": "55948bab-d254-4cbe-cd73-937c9bf9b4e6"
      },
      "outputs": [
        {
          "output_type": "display_data",
          "data": {
            "text/plain": [
              "<IPython.core.display.HTML object>"
            ],
            "text/html": [
              "<!DOCTYPE html>\n",
              "<html>\n",
              "   <head>\n",
              "      <script type = \"text/javascript\" src = \"https://d3js.org/d3.v4.min.js\"></script>\n",
              "   </head>\n",
              "\n",
              "   <body>\n",
              "      <div>\n",
              "        Ritesh Bhalerao\n",
              "      </div>\n",
              "\n",
              "      <script>\n",
              "         d3.select(\"div\").text();\n",
              "      </script>\n",
              "   </body>\n",
              "</html>\n"
            ]
          },
          "metadata": {}
        }
      ],
      "source": [
        "%%html\n",
        "<!DOCTYPE html>\n",
        "<html>\n",
        "   <head>\n",
        "      <script type = \"text/javascript\" src = \"https://d3js.org/d3.v4.min.js\"></script>\n",
        "   </head>\n",
        "\n",
        "   <body>\n",
        "      <div>\n",
        "        Ritesh Bhalerao\n",
        "      </div>\n",
        "\n",
        "      <script>\n",
        "         d3.select(\"div\").text();\n",
        "      </script>\n",
        "   </body>\n",
        "</html>"
      ]
    },
    {
      "cell_type": "markdown",
      "source": [
        "Here we are selecting div using select()commamnd of D3.js"
      ],
      "metadata": {
        "id": "5UpFphKqQzSx"
      }
    },
    {
      "cell_type": "code",
      "source": [
        "%%html\n",
        "<!DOCTYPE html>\n",
        "<html>\n",
        "   <head>\n",
        "      <script type = \"text/javascript\" src = \"https://d3js.org/d3.v4.min.js\"></script>\n",
        "   </head>\n",
        "\n",
        "   <body>\n",
        "      <div class = \"myclass\">\n",
        "          Ritesh Bhalerao\n",
        "      </div>\n",
        "\n",
        "      <script>\n",
        "         ad3.select(\".myclass\").text();\n",
        "      </script>\n",
        "   </body>\n",
        "</html>"
      ],
      "metadata": {
        "colab": {
          "base_uri": "https://localhost:8080/",
          "height": 34
        },
        "id": "TRbH8v6YP669",
        "outputId": "f079a59f-bb66-498c-8ef7-c659e674c8ef"
      },
      "execution_count": 2,
      "outputs": [
        {
          "output_type": "display_data",
          "data": {
            "text/plain": [
              "<IPython.core.display.HTML object>"
            ],
            "text/html": [
              "<!DOCTYPE html>\n",
              "<html>\n",
              "   <head>\n",
              "      <script type = \"text/javascript\" src = \"https://d3js.org/d3.v4.min.js\"></script>\n",
              "   </head>\n",
              "\n",
              "   <body>\n",
              "      <div class = \"myclass\">\n",
              "          Ritesh Bhalerao\n",
              "      </div>\n",
              "\n",
              "      <script>\n",
              "         ad3.select(\".myclass\").text();\n",
              "      </script>\n",
              "   </body>\n",
              "</html>\n"
            ]
          },
          "metadata": {}
        }
      ]
    },
    {
      "cell_type": "markdown",
      "source": [
        "Here we are selecting div based on class name  using select() command of D3.js"
      ],
      "metadata": {
        "id": "3L1fwombRQ37"
      }
    },
    {
      "cell_type": "code",
      "source": [
        "%%html\n",
        "<!DOCTYPE html>\n",
        "<html>\n",
        "   <head>\n",
        "      <script type = \"text/javascript\" src = \"https://d3js.org/d3.v4.min.js\"></script>\n",
        "   </head>\n",
        "\n",
        "   <body>\n",
        "      <div id = \"hello\">\n",
        "         Ritesh Bhalerao\n",
        "      </div>\n",
        "\n",
        "      <script>\n",
        "         d3.select(\"#hello\").text();\n",
        "      </script>\n",
        "   </body>\n",
        "</html>"
      ],
      "metadata": {
        "colab": {
          "base_uri": "https://localhost:8080/",
          "height": 34
        },
        "id": "rlZgDATTRlRK",
        "outputId": "9d7cf951-c557-4a57-d378-5f31a63c57de"
      },
      "execution_count": 3,
      "outputs": [
        {
          "output_type": "display_data",
          "data": {
            "text/plain": [
              "<IPython.core.display.HTML object>"
            ],
            "text/html": [
              "<!DOCTYPE html>\n",
              "<html>\n",
              "   <head>\n",
              "      <script type = \"text/javascript\" src = \"https://d3js.org/d3.v4.min.js\"></script>\n",
              "   </head>\n",
              "\n",
              "   <body>\n",
              "      <div id = \"hello\">\n",
              "         Ritesh Bhalerao\n",
              "      </div>\n",
              "\n",
              "      <script>\n",
              "         d3.select(\"#hello\").text();\n",
              "      </script>\n",
              "   </body>\n",
              "</html>\n"
            ]
          },
          "metadata": {}
        }
      ]
    },
    {
      "cell_type": "markdown",
      "source": [
        "Here we are selecting div based on id using select() command of D3.js"
      ],
      "metadata": {
        "id": "1c1-BFG6R0Zh"
      }
    },
    {
      "cell_type": "markdown",
      "source": [
        "**The append() Method**"
      ],
      "metadata": {
        "id": "asGdTa_QTZhU"
      }
    },
    {
      "cell_type": "code",
      "source": [
        "%%html\n",
        "<!DOCTYPE html>\n",
        "<html>\n",
        "   <head>\n",
        "      <script type = \"text/javascript\" src = \"https://d3js.org/d3.v4.min.js\"></script>\n",
        "   </head>\n",
        "\n",
        "   <body>\n",
        "      <div class = \"myclass\">\n",
        "         Hello World!\n",
        "      </div>\n",
        "\n",
        "      <script>\n",
        "         d3.select(\"div.myclass\").append(\"span\");\n",
        "      </script>\n",
        "   </body>\n",
        "</html>"
      ],
      "metadata": {
        "colab": {
          "base_uri": "https://localhost:8080/",
          "height": 34
        },
        "id": "ZsfDsSHCR7XQ",
        "outputId": "f7d0b9b5-d2f0-454c-b67a-4ae48d23aa3e"
      },
      "execution_count": null,
      "outputs": [
        {
          "output_type": "display_data",
          "data": {
            "text/plain": [
              "<IPython.core.display.HTML object>"
            ],
            "text/html": [
              "<!DOCTYPE html>\n",
              "<html>\n",
              "   <head>\n",
              "      <script type = \"text/javascript\" src = \"https://d3js.org/d3.v4.min.js\"></script>\n",
              "   </head>\n",
              "\n",
              "   <body>\n",
              "      <div class = \"myclass\">\n",
              "         Hello World!\n",
              "      </div>\n",
              "      \n",
              "      <script>\n",
              "         d3.select(\"div.myclass\").append(\"span\");\n",
              "      </script>\n",
              "   </body>\n",
              "</html>\n"
            ]
          },
          "metadata": {}
        }
      ]
    },
    {
      "cell_type": "markdown",
      "source": [
        "Here, the append() method adds a new tag span inside the div tag"
      ],
      "metadata": {
        "id": "zoMRR5TfShuj"
      }
    },
    {
      "cell_type": "markdown",
      "source": [
        "**The text() method**"
      ],
      "metadata": {
        "id": "yXHAlK3aTgDj"
      }
    },
    {
      "cell_type": "code",
      "source": [
        "%%html\n",
        "<!DOCTYPE html>\n",
        "<html>\n",
        "   <head>\n",
        "      <script type = \"text/javascript\" src = \"https://d3js.org/d3.v4.min.js\"></script>\n",
        "   </head>\n",
        "\n",
        "   <body>\n",
        "      <div class = \"myclass\">\n",
        "         Hello World!\n",
        "      </div>\n",
        "\n",
        "      <script>\n",
        "         d3.select(\"div.myclass\").append(\"span\").text(\"from D3.js\");\n",
        "      </script>\n",
        "   </body>\n",
        "</html>"
      ],
      "metadata": {
        "colab": {
          "base_uri": "https://localhost:8080/",
          "height": 34
        },
        "id": "fSIJazu4SxCc",
        "outputId": "87f8cef0-633d-482a-b38e-1500367c6b6c"
      },
      "execution_count": null,
      "outputs": [
        {
          "output_type": "display_data",
          "data": {
            "text/plain": [
              "<IPython.core.display.HTML object>"
            ],
            "text/html": [
              "<!DOCTYPE html>\n",
              "<html>\n",
              "   <head>\n",
              "      <script type = \"text/javascript\" src = \"https://d3js.org/d3.v4.min.js\"></script>\n",
              "   </head>\n",
              "\n",
              "   <body>\n",
              "      <div class = \"myclass\">\n",
              "         Hello World!\n",
              "      </div>\n",
              "      \n",
              "      <script>\n",
              "         d3.select(\"div.myclass\").append(\"span\").text(\"from D3.js\");\n",
              "      </script>\n",
              "   </body>\n",
              "</html>\n"
            ]
          },
          "metadata": {}
        }
      ]
    },
    {
      "cell_type": "markdown",
      "source": [
        "The text() method is used to set the content of the selected / appended elements.\n"
      ],
      "metadata": {
        "id": "zj6SWy7ITDES"
      }
    },
    {
      "cell_type": "markdown",
      "source": [
        "**The html() Method**"
      ],
      "metadata": {
        "id": "tT5E4_e4Txxk"
      }
    },
    {
      "cell_type": "code",
      "source": [
        "%%html\n",
        "<!DOCTYPE html>\n",
        "<html>\n",
        "   <head>\n",
        "      <script type = \"text/javascript\" src = \"https://d3js.org/d3.v4.min.js\"></script>\n",
        "   </head>\n",
        "\n",
        "   <body>\n",
        "      <div class = \"myclass\">\n",
        "         Hello World!\n",
        "      </div>\n",
        "\n",
        "      <script>\n",
        "         d3.select(\".myclass\").html(\"Hello World! <span>from D3.js</span>\");\n",
        "      </script>\n",
        "   </body>\n",
        "</html>"
      ],
      "metadata": {
        "colab": {
          "base_uri": "https://localhost:8080/",
          "height": 34
        },
        "id": "B9qPJhcPTBaL",
        "outputId": "a164851a-f2de-4588-e604-6798500bb893"
      },
      "execution_count": null,
      "outputs": [
        {
          "output_type": "display_data",
          "data": {
            "text/plain": [
              "<IPython.core.display.HTML object>"
            ],
            "text/html": [
              "<!DOCTYPE html>\n",
              "<html>\n",
              "   <head>\n",
              "      <script type = \"text/javascript\" src = \"https://d3js.org/d3.v4.min.js\"></script>\n",
              "   </head>\n",
              "\n",
              "   <body>\n",
              "      <div class = \"myclass\">\n",
              "         Hello World!\n",
              "      </div>\n",
              "      \n",
              "      <script>\n",
              "         d3.select(\".myclass\").html(\"Hello World! <span>from D3.js</span>\");\n",
              "      </script>\n",
              "   </body>\n",
              "</html>\n"
            ]
          },
          "metadata": {}
        }
      ]
    },
    {
      "cell_type": "markdown",
      "source": [
        "The html() method is used to set the html content of the selected / appended elements."
      ],
      "metadata": {
        "id": "VqZAOvnoUCKK"
      }
    },
    {
      "cell_type": "markdown",
      "source": [
        "**The style() Method**"
      ],
      "metadata": {
        "id": "U7AdR4NQUEJT"
      }
    },
    {
      "cell_type": "code",
      "source": [
        "%%html\n",
        "<!DOCTYPE html>\n",
        "<html>\n",
        "   <head>\n",
        "      <script type = \"text/javascript\" src = \"https://d3js.org/d3.v4.min.js\"></script>\n",
        "   </head>\n",
        "\n",
        "   <body>\n",
        "      <div class = \"myclass\">\n",
        "         Hello World!\n",
        "      </div>\n",
        "\n",
        "      <script>\n",
        "         d3.select(\".myclass\").style(\"color\", \"red\");\n",
        "      </script>\n",
        "   </body>\n",
        "</html>"
      ],
      "metadata": {
        "colab": {
          "base_uri": "https://localhost:8080/",
          "height": 34
        },
        "id": "R540VdpfUDez",
        "outputId": "3a7359d0-ef89-4b0e-8d50-e6411d45ab49"
      },
      "execution_count": null,
      "outputs": [
        {
          "output_type": "display_data",
          "data": {
            "text/plain": [
              "<IPython.core.display.HTML object>"
            ],
            "text/html": [
              "<!DOCTYPE html>\n",
              "<html>\n",
              "   <head>\n",
              "      <script type = \"text/javascript\" src = \"https://d3js.org/d3.v4.min.js\"></script>\n",
              "   </head>\n",
              "\n",
              "   <body>\n",
              "      <div class = \"myclass\">\n",
              "         Hello World!\n",
              "      </div>\n",
              "      \n",
              "      <script>\n",
              "         d3.select(\".myclass\").style(\"color\", \"red\");\n",
              "      </script>\n",
              "   </body>\n",
              "</html>\n"
            ]
          },
          "metadata": {}
        }
      ]
    },
    {
      "cell_type": "markdown",
      "source": [
        "The style() method is used to set the style property of the selected elements."
      ],
      "metadata": {
        "id": "3ect1F1yUR0b"
      }
    },
    {
      "cell_type": "markdown",
      "source": [
        "**The selectAll() Method**"
      ],
      "metadata": {
        "id": "vPozQgdNUTbi"
      }
    },
    {
      "cell_type": "code",
      "source": [
        "%%html\n",
        "<!DOCTYPE html>\n",
        "<html>\n",
        "   <head>\n",
        "      <script type = \"text/javascript\" src = \"https://d3js.org/d3.v4.min.js\"></script>\n",
        "   </head>\n",
        "\n",
        "   <body>\n",
        "      <h2 class = \"myclass\">Message</h2>\n",
        "      <div class = \"myclass\">\n",
        "         Hello World!\n",
        "      </div>\n",
        "\n",
        "      <script>\n",
        "         d3.selectAll(\".myclass\").attr(\"style\", \"color: red\");\n",
        "      </script>\n",
        "   </body>\n",
        "</html>"
      ],
      "metadata": {
        "colab": {
          "base_uri": "https://localhost:8080/",
          "height": 82
        },
        "id": "OBHxB4o2USzT",
        "outputId": "a27655d7-6b22-40e0-8950-15394a0001be"
      },
      "execution_count": null,
      "outputs": [
        {
          "output_type": "display_data",
          "data": {
            "text/plain": [
              "<IPython.core.display.HTML object>"
            ],
            "text/html": [
              "<!DOCTYPE html>\n",
              "<html>\n",
              "   <head>\n",
              "      <script type = \"text/javascript\" src = \"https://d3js.org/d3.v4.min.js\"></script>\n",
              "   </head>\n",
              "\n",
              "   <body>\n",
              "      <h2 class = \"myclass\">Message</h2>\n",
              "      <div class = \"myclass\">\n",
              "         Hello World!\n",
              "      </div>\n",
              "      \n",
              "      <script>\n",
              "         d3.selectAll(\".myclass\").attr(\"style\", \"color: red\");\n",
              "      </script>\n",
              "   </body>\n",
              "</html>\n"
            ]
          },
          "metadata": {}
        }
      ]
    },
    {
      "cell_type": "markdown",
      "source": [
        "The selectAll() method is used to select multiple elements in the HTML document."
      ],
      "metadata": {
        "id": "Qdbi3V6gUh4A"
      }
    },
    {
      "cell_type": "markdown",
      "source": [
        "**Data Join**"
      ],
      "metadata": {
        "id": "vd9Ux6sMVQ_S"
      }
    },
    {
      "cell_type": "code",
      "source": [
        "%%html\n",
        "<!DOCTYPE html>\n",
        "<html>\n",
        "   <head>\n",
        "      <script type = \"text/javascript\" src = \"https://d3js.org/d3.v4.min.js\"></script>\n",
        "      <style>\n",
        "         body { font-family: Arial; }\n",
        "      </style>\n",
        "   </head>\n",
        "\n",
        "   <body>\n",
        "      <ul id = \"list\">\n",
        "         <li></li>\n",
        "         <li></li>\n",
        "      </ul>\n",
        "\n",
        "      <input type = \"button\" name = \"remove\" value = \"Remove fourth value\"\n",
        "         onclick = \"javascript:remove()\" />\n",
        "\n",
        "      <script>\n",
        "         d3.select(\"#list\").selectAll(\"li\")\n",
        "            .data([10, 20, 30, 25, 15])\n",
        "            .text(function(d)\n",
        "               { return \"This is pre-existing element and the value is \" + d; })\n",
        "            .enter()\n",
        "            .append(\"li\")\n",
        "            .text(function(d)\n",
        "               { return \"This is dynamically created element and the value is \" + d; });\n",
        "\n",
        "         function remove() {\n",
        "            d3.selectAll(\"li\")\n",
        "            .data([10, 20, 30, 15])\n",
        "            .exit()\n",
        "            .remove()\n",
        "         }\n",
        "      </script>\n",
        "   </body>\n",
        "</html>"
      ],
      "metadata": {
        "colab": {
          "base_uri": "https://localhost:8080/",
          "height": 117
        },
        "id": "NWsSr4CKVSrc",
        "outputId": "87e8292e-d684-4ccc-bfa0-7cf8b9e52440"
      },
      "execution_count": null,
      "outputs": [
        {
          "output_type": "display_data",
          "data": {
            "text/plain": [
              "<IPython.core.display.HTML object>"
            ],
            "text/html": [
              "<!DOCTYPE html>\n",
              "<html>\n",
              "   <head>\n",
              "      <script type = \"text/javascript\" src = \"https://d3js.org/d3.v4.min.js\"></script>\n",
              "      <style>\n",
              "         body { font-family: Arial; }\n",
              "      </style>\n",
              "   </head>\n",
              "\n",
              "   <body>\n",
              "      <ul id = \"list\">\n",
              "         <li></li>\n",
              "         <li></li>\n",
              "      </ul>\n",
              "        \n",
              "      <input type = \"button\" name = \"remove\" value = \"Remove fourth value\" \n",
              "         onclick = \"javascript:remove()\" />\n",
              "      \n",
              "      <script>\n",
              "         d3.select(\"#list\").selectAll(\"li\")\n",
              "            .data([10, 20, 30, 25, 15])\n",
              "            .text(function(d) \n",
              "               { return \"This is pre-existing element and the value is \" + d; })\n",
              "            .enter()\n",
              "            .append(\"li\")\n",
              "            .text(function(d) \n",
              "               { return \"This is dynamically created element and the value is \" + d; });\n",
              "             \n",
              "         function remove() {\n",
              "            d3.selectAll(\"li\")\n",
              "            .data([10, 20, 30, 15])\n",
              "            .exit()\n",
              "            .remove()\n",
              "         }\n",
              "      </script>\n",
              "   </body>\n",
              "</html>\n"
            ]
          },
          "metadata": {}
        }
      ]
    },
    {
      "cell_type": "markdown",
      "source": [
        "Data join enables us to inject, modify and remove elements (HTML element as well as embedded SVG elements) based on the data set in the existing HTML document.\n",
        "Here, we have removed the fourth item from the data set and its corresponding li using the exit() and the remove() methods."
      ],
      "metadata": {
        "id": "8JgO6nN4V5nr"
      }
    },
    {
      "cell_type": "markdown",
      "source": [
        "**Scalable Vector Graphics(SVG)**"
      ],
      "metadata": {
        "id": "7WShQzR2V6Vb"
      }
    },
    {
      "cell_type": "markdown",
      "source": [
        "SVG is an XML-based vector graphics format. It provides options to draw different shapes such as Lines, Rectangles, Circles, Ellipses, etc. Hence, designing visualizations with SVG gives you more power and flexibility."
      ],
      "metadata": {
        "id": "MWdmnJepW4U0"
      }
    },
    {
      "cell_type": "code",
      "source": [
        "%%html\n",
        "<!DOCTYPE html>\n",
        "<html>\n",
        "   <head>\n",
        "      <script type = \"text/javascript\" src = \"https://d3js.org/d3.v4.min.js\"></script>\n",
        "      <style>\n",
        "         body { font-family: Arial; }\n",
        "      </style>\n",
        "   </head>\n",
        "\n",
        "   <body>\n",
        "      <div id = \"svgcontainer\">\n",
        "      </div>\n",
        "      <script language = \"javascript\">\n",
        "         var width = 300;\n",
        "         var height = 300;\n",
        "         var svg = d3.select(\"#svgcontainer\")\n",
        "            .append(\"svg\")\n",
        "            .attr(\"width\", width)\n",
        "            .attr(\"height\", height);\n",
        "         svg.append(\"line\")\n",
        "            .attr(\"x1\", 100)\n",
        "            .attr(\"y1\", 100)\n",
        "            .attr(\"x2\", 200)\n",
        "            .attr(\"y2\", 200)\n",
        "            .style(\"stroke\", \"rgb(255,0,0)\")\n",
        "            .style(\"stroke-width\", 2);\n",
        "      </script>\n",
        "   </body>\n",
        "</html>"
      ],
      "metadata": {
        "colab": {
          "base_uri": "https://localhost:8080/",
          "height": 321
        },
        "id": "6rhVCvgHWWuz",
        "outputId": "8c9d614a-f7c8-46c9-e3c4-b2bb89695a07"
      },
      "execution_count": null,
      "outputs": [
        {
          "output_type": "display_data",
          "data": {
            "text/plain": [
              "<IPython.core.display.HTML object>"
            ],
            "text/html": [
              "<!DOCTYPE html>\n",
              "<html>\n",
              "   <head>\n",
              "      <script type = \"text/javascript\" src = \"https://d3js.org/d3.v4.min.js\"></script>\n",
              "      <style>\n",
              "         body { font-family: Arial; }\n",
              "      </style>\n",
              "   </head>\n",
              "\n",
              "   <body>\n",
              "      <div id = \"svgcontainer\">\n",
              "      </div>\n",
              "      <script language = \"javascript\">\n",
              "         var width = 300;\n",
              "         var height = 300;\n",
              "         var svg = d3.select(\"#svgcontainer\")\n",
              "            .append(\"svg\")\n",
              "            .attr(\"width\", width)\n",
              "            .attr(\"height\", height);\n",
              "         svg.append(\"line\")\n",
              "            .attr(\"x1\", 100)\n",
              "            .attr(\"y1\", 100)\n",
              "            .attr(\"x2\", 200)\n",
              "            .attr(\"y2\", 200)\n",
              "            .style(\"stroke\", \"rgb(255,0,0)\")\n",
              "            .style(\"stroke-width\", 2);\n",
              "      </script>\n",
              "   </body>\n",
              "</html>\n"
            ]
          },
          "metadata": {}
        }
      ]
    },
    {
      "cell_type": "code",
      "source": [
        "%%html\n",
        "<!DOCTYPE html>\n",
        "<html>\n",
        "   <head>\n",
        "      <script type = \"text/javascript\" src = \"https://d3js.org/d3.v4.min.js\"></script>\n",
        "   </head>\n",
        "\n",
        "   <body>\n",
        "      <div id = \"svgcontainer\"></div>\n",
        "      <script>\n",
        "         var width = 300;\n",
        "         var height = 300;\n",
        "         //Create SVG element\n",
        "         var svg = d3.select(\"#svgcontainer\")\n",
        "            .append(\"svg\")\n",
        "            .attr(\"width\", width)\n",
        "            .attr(\"height\", height);\n",
        "         //Create and append rectangle element\n",
        "         svg.append(\"rect\")\n",
        "            .attr(\"x\", 20)\n",
        "            .attr(\"y\", 20)\n",
        "            .attr(\"width\", 200)\n",
        "            .attr(\"height\", 100)\n",
        "            .attr(\"fill\", \"green\");\n",
        "      </script>\n",
        "   </body>\n",
        "</html>"
      ],
      "metadata": {
        "colab": {
          "base_uri": "https://localhost:8080/",
          "height": 321
        },
        "id": "lpR5wrm_W6jU",
        "outputId": "42a29c74-a66e-4fbd-8186-f3e848be8893"
      },
      "execution_count": null,
      "outputs": [
        {
          "output_type": "display_data",
          "data": {
            "text/plain": [
              "<IPython.core.display.HTML object>"
            ],
            "text/html": [
              "<!DOCTYPE html>\n",
              "<html>\n",
              "   <head>\n",
              "      <script type = \"text/javascript\" src = \"https://d3js.org/d3.v4.min.js\"></script>\n",
              "   </head>\n",
              "\n",
              "   <body>\n",
              "      <div id = \"svgcontainer\"></div>\n",
              "      <script>\n",
              "         var width = 300;\n",
              "         var height = 300;\n",
              "         //Create SVG element\n",
              "         var svg = d3.select(\"#svgcontainer\")\n",
              "            .append(\"svg\")\n",
              "            .attr(\"width\", width)\n",
              "            .attr(\"height\", height);\n",
              "         //Create and append rectangle element\n",
              "         svg.append(\"rect\")\n",
              "            .attr(\"x\", 20)\n",
              "            .attr(\"y\", 20)\n",
              "            .attr(\"width\", 200)\n",
              "            .attr(\"height\", 100)\n",
              "            .attr(\"fill\", \"green\");\n",
              "      </script>\n",
              "   </body>\n",
              "</html>\n"
            ]
          },
          "metadata": {}
        }
      ]
    },
    {
      "cell_type": "code",
      "source": [
        "%%html\n",
        "<html>\n",
        "   <head>\n",
        "      <script type = \"text/javascript\" src = \"https://d3js.org/d3.v4.min.js\"></script>\n",
        "   </head>\n",
        "\n",
        "   <body>\n",
        "      <div id = \"svgcontainer\"></div>\n",
        "      <script>\n",
        "         var width = 300;\n",
        "         var height = 300;\n",
        "         var svg = d3.select(\"#svgcontainer\")\n",
        "            .append(\"svg\")\n",
        "            .attr(\"width\", width)\n",
        "            .attr(\"height\", height);\n",
        "         svg.append(\"ellipse\")\n",
        "            .attr(\"cx\", 200)\n",
        "            .attr(\"cy\", 50)\n",
        "            .attr(\"rx\", 100)\n",
        "            .attr(\"ry\", 50)\n",
        "            .attr(\"fill\", \"green\")\n",
        "      </script>\n",
        "   </body>\n",
        "</html>"
      ],
      "metadata": {
        "colab": {
          "base_uri": "https://localhost:8080/",
          "height": 321
        },
        "id": "0UnWogzBXBGE",
        "outputId": "35b96a72-73e6-461d-f0c7-f8e5f9d0ecea"
      },
      "execution_count": null,
      "outputs": [
        {
          "output_type": "display_data",
          "data": {
            "text/plain": [
              "<IPython.core.display.HTML object>"
            ],
            "text/html": [
              "<html>\n",
              "   <head>\n",
              "      <script type = \"text/javascript\" src = \"https://d3js.org/d3.v4.min.js\"></script>\n",
              "   </head>\n",
              "\n",
              "   <body>\n",
              "      <div id = \"svgcontainer\"></div>\n",
              "      <script>\n",
              "         var width = 300;\n",
              "         var height = 300;\n",
              "         var svg = d3.select(\"#svgcontainer\")\n",
              "            .append(\"svg\")\n",
              "            .attr(\"width\", width)\n",
              "            .attr(\"height\", height);\n",
              "         svg.append(\"ellipse\")\n",
              "            .attr(\"cx\", 200)\n",
              "            .attr(\"cy\", 50)\n",
              "            .attr(\"rx\", 100)\n",
              "            .attr(\"ry\", 50)\n",
              "            .attr(\"fill\", \"green\")\n",
              "      </script>\n",
              "   </body>\n",
              "</html>\n"
            ]
          },
          "metadata": {}
        }
      ]
    },
    {
      "cell_type": "markdown",
      "source": [
        "**SVG Transformation**"
      ],
      "metadata": {
        "id": "BNxjVc55XRhd"
      }
    },
    {
      "cell_type": "markdown",
      "source": [
        "SVG provides options to transform a single SVG shape element or group of SVG elements. SVG transform supports Translate, Scale, Rotate and Skew."
      ],
      "metadata": {
        "id": "xlBRjmGCXTCr"
      }
    },
    {
      "cell_type": "code",
      "source": [
        "%%html\n",
        "<html>\n",
        "   <head>\n",
        "      <script type = \"text/javascript\" src = \"https://d3js.org/d3.v4.min.js\"></script>\n",
        "   </head>\n",
        "\n",
        "   <body>\n",
        "      <svg width = \"300\" height = \"300\">\n",
        "         <rect x = \"20\"\n",
        "            y = \"20\"\n",
        "            width = \"60\"\n",
        "            height = \"60\"\n",
        "            fill = \"green\"\n",
        "            transform = \"translate(30 30)\">\n",
        "         </rect>\n",
        "      </svg>\n",
        "   </body>\n",
        "</html>"
      ],
      "metadata": {
        "colab": {
          "base_uri": "https://localhost:8080/",
          "height": 321
        },
        "id": "d7MEpvdBXW-b",
        "outputId": "59c4dde8-dc46-47e0-c4d3-dffacae06728"
      },
      "execution_count": null,
      "outputs": [
        {
          "output_type": "display_data",
          "data": {
            "text/plain": [
              "<IPython.core.display.HTML object>"
            ],
            "text/html": [
              "<html>\n",
              "   <head>\n",
              "      <script type = \"text/javascript\" src = \"https://d3js.org/d3.v4.min.js\"></script>\n",
              "   </head>\n",
              "\n",
              "   <body>\n",
              "      <svg width = \"300\" height = \"300\">\n",
              "         <rect x = \"20\" \n",
              "            y = \"20\"\n",
              "            width = \"60\"\n",
              "            height = \"60\"\n",
              "            fill = \"green\"\n",
              "            transform = \"translate(30 30)\">\n",
              "         </rect>\n",
              "      </svg>\n",
              "   </body>\n",
              "</html>\n"
            ]
          },
          "metadata": {}
        }
      ]
    },
    {
      "cell_type": "markdown",
      "source": [
        "The above code is for SVG rectangle and the following code is for transforming rectangle"
      ],
      "metadata": {
        "id": "7KFkx_kaXgYu"
      }
    },
    {
      "cell_type": "code",
      "source": [
        "%%html\n",
        "<html>\n",
        "   <head>\n",
        "      <script type = \"text/javascript\" src = \"https://d3js.org/d3.v4.min.js\"></script>\n",
        "   </head>\n",
        "\n",
        "   <body>\n",
        "      <svg width = \"300\" height = \"300\">\n",
        "         <rect x = \"20\"\n",
        "            y = \"20\"\n",
        "            width = \"60\"\n",
        "            height = \"60\"\n",
        "            fill = \"green\"\n",
        "            transform = \"translate(60 60) rotate(45)\">\n",
        "         </rect>\n",
        "      </svg>\n",
        "   </body>\n",
        "</html>"
      ],
      "metadata": {
        "colab": {
          "base_uri": "https://localhost:8080/",
          "height": 321
        },
        "id": "OI-JpKzuXwFG",
        "outputId": "7c789ad1-2afc-43f6-8f1f-dd1ad88f17fc"
      },
      "execution_count": null,
      "outputs": [
        {
          "output_type": "display_data",
          "data": {
            "text/plain": [
              "<IPython.core.display.HTML object>"
            ],
            "text/html": [
              "<html>\n",
              "   <head>\n",
              "      <script type = \"text/javascript\" src = \"https://d3js.org/d3.v4.min.js\"></script>\n",
              "   </head>\n",
              "\n",
              "   <body>\n",
              "      <svg width = \"300\" height = \"300\">\n",
              "         <rect x = \"20\" \n",
              "            y = \"20\" \n",
              "            width = \"60\" \n",
              "            height = \"60\" \n",
              "            fill = \"green\" \n",
              "            transform = \"translate(60 60) rotate(45)\">\n",
              "         </rect>\n",
              "      </svg>\n",
              "   </body>\n",
              "</html>\n"
            ]
          },
          "metadata": {}
        }
      ]
    },
    {
      "cell_type": "code",
      "source": [
        "%%html\n",
        "<html>\n",
        "   <head>\n",
        "      <script type = \"text/javascript\" src = \"https://d3js.org/d3.v4.min.js\"></script>\n",
        "   </head>\n",
        "\n",
        "   <body>\n",
        "      <svg width = \"300\" height = \"300\">\n",
        "         <g transform = \"translate(60,60) rotate(60)\">\n",
        "            <rect x = \"50\"\n",
        "               y = \"20\"\n",
        "               width = \"60\"\n",
        "               height = \"40\"\n",
        "               fill = \"yellow\">\n",
        "            </rect>\n",
        "            <circle cx = \"0\"\n",
        "               cy = \"0\"\n",
        "               r = \"50\"\n",
        "               fill = \"black\"/>\n",
        "         </g>\n",
        "      </svg>\n",
        "   </body>\n",
        "</html>"
      ],
      "metadata": {
        "colab": {
          "base_uri": "https://localhost:8080/",
          "height": 321
        },
        "id": "RP8HLwRdYAi0",
        "outputId": "3d9a5f9f-193b-4a3c-dc3b-945791adc2a6"
      },
      "execution_count": null,
      "outputs": [
        {
          "output_type": "display_data",
          "data": {
            "text/plain": [
              "<IPython.core.display.HTML object>"
            ],
            "text/html": [
              "<html>\n",
              "   <head>\n",
              "      <script type = \"text/javascript\" src = \"https://d3js.org/d3.v4.min.js\"></script>\n",
              "   </head>\n",
              "\n",
              "   <body>\n",
              "      <svg width = \"300\" height = \"300\">\n",
              "         <g transform = \"translate(60,60) rotate(60)\">\n",
              "            <rect x = \"50\" \n",
              "               y = \"20\" \n",
              "               width = \"60\" \n",
              "               height = \"40\" \n",
              "               fill = \"yellow\">\n",
              "            </rect>\n",
              "            <circle cx = \"0\" \n",
              "               cy = \"0\" \n",
              "               r = \"50\" \n",
              "               fill = \"black\"/>\n",
              "         </g>\n",
              "      </svg>\n",
              "   </body>\n",
              "</html>\n"
            ]
          },
          "metadata": {}
        }
      ]
    },
    {
      "cell_type": "markdown",
      "source": [
        "This code add SVG circle and transforms rectangle and changes position of rectangle  "
      ],
      "metadata": {
        "id": "WDbs1Ne5YK62"
      }
    },
    {
      "cell_type": "markdown",
      "source": [
        "**D3.js - Transition**"
      ],
      "metadata": {
        "id": "NWiqkALRb9XV"
      }
    },
    {
      "cell_type": "code",
      "source": [
        "%%html\n",
        "<!DOCTYPE html>\n",
        "<html>\n",
        "   <head>\n",
        "      <script type = \"text/javascript\" src = \"https://d3js.org/d3.v4.min.js\"></script>\n",
        "   </head>\n",
        "\n",
        "   <body>\n",
        "      <h3>Simple transitions</h3>\n",
        "      <script>\n",
        "         d3.select(\"body\").transition().style(\"background-color\", \"lightblue\");\n",
        "      </script>\n",
        "   </body>\n",
        "</html>"
      ],
      "metadata": {
        "colab": {
          "base_uri": "https://localhost:8080/",
          "height": 58
        },
        "id": "d8rih4SdbME8",
        "outputId": "3b4de1f8-4ce8-488b-ad10-541b1e4a7258"
      },
      "execution_count": null,
      "outputs": [
        {
          "output_type": "display_data",
          "data": {
            "text/plain": [
              "<IPython.core.display.HTML object>"
            ],
            "text/html": [
              "<!DOCTYPE html>\n",
              "<html>\n",
              "   <head>\n",
              "      <script type = \"text/javascript\" src = \"https://d3js.org/d3.v4.min.js\"></script>\n",
              "   </head>\n",
              "\n",
              "   <body>\n",
              "      <h3>Simple transitions</h3>\n",
              "      <script>\n",
              "         d3.select(\"body\").transition().style(\"background-color\", \"lightblue\");\n",
              "      </script>\n",
              "   </body>\n",
              "</html>\n"
            ]
          },
          "metadata": {}
        }
      ]
    },
    {
      "cell_type": "markdown",
      "source": [
        "Here, we have selected the body element and then started transition by calling the transition() method. Then, we have instructed to transit the background color from the current color, white to light blue."
      ],
      "metadata": {
        "id": "g6toECzPcDH3"
      }
    },
    {
      "cell_type": "code",
      "source": [
        "%%html\n",
        "<!DOCTYPE html>\n",
        "<html>\n",
        "   <head>\n",
        "      <script type = \"text/javascript\" src = \"https://d3js.org/d3.v4.min.js\"></script>\n",
        "   </head>\n",
        "\n",
        "   <body>\n",
        "      <h3>Simple transitions</h3>\n",
        "      <script>\n",
        "         d3.select(\"body\").transition().style(\"background-color\", \"lightblue\").duration(5000);\n",
        "\n",
        "      </script>\n",
        "   </body>\n",
        "</html>"
      ],
      "metadata": {
        "colab": {
          "base_uri": "https://localhost:8080/",
          "height": 58
        },
        "id": "FstRAsXQcChd",
        "outputId": "5056387e-7481-43e4-d4a9-5221792f31cc"
      },
      "execution_count": null,
      "outputs": [
        {
          "output_type": "display_data",
          "data": {
            "text/plain": [
              "<IPython.core.display.HTML object>"
            ],
            "text/html": [
              "<!DOCTYPE html>\n",
              "<html>\n",
              "   <head>\n",
              "      <script type = \"text/javascript\" src = \"https://d3js.org/d3.v4.min.js\"></script>\n",
              "   </head>\n",
              "\n",
              "   <body>\n",
              "      <h3>Simple transitions</h3>\n",
              "      <script>\n",
              "         d3.select(\"body\").transition().style(\"background-color\", \"lightblue\").duration(5000);\n",
              "\n",
              "      </script>\n",
              "   </body>\n",
              "</html>\n"
            ]
          },
          "metadata": {}
        }
      ]
    },
    {
      "cell_type": "markdown",
      "source": [
        "**Animation**"
      ],
      "metadata": {
        "id": "7hR5g2DmcpPt"
      }
    },
    {
      "cell_type": "code",
      "source": [
        "%%html\n",
        "<!DOCTYPE html>\n",
        "<html>\n",
        "   <head>\n",
        "      <script type = \"text/javascript\" src = \"https://d3js.org/d3.v4.min.js\"></script>\n",
        "   </head>\n",
        "\n",
        "   <body>\n",
        "    <span>\n",
        "      <h3> Hi this is Transition in D3.js </h3></span>\n",
        "      <script>\n",
        "\n",
        "         d3.selectAll(\"h3\").transition()\n",
        "            .style(\"font-size\",\"50px\")\n",
        "            .style(\"color\" ,'orange')\n",
        "            .style(\"text-decoration\",\"underline\")\n",
        "            .style(\"transform\",\"rotate(-45deg)\")\n",
        "            .delay(2000).duration(5000);\n",
        "      </script>\n",
        "   </body>\n",
        "</html>"
      ],
      "metadata": {
        "colab": {
          "base_uri": "https://localhost:8080/",
          "height": 549
        },
        "id": "nNtJJr8ucmgt",
        "outputId": "ea29a98c-074f-4502-eafe-c7f4b8c7d1b7"
      },
      "execution_count": null,
      "outputs": [
        {
          "output_type": "display_data",
          "data": {
            "text/plain": [
              "<IPython.core.display.HTML object>"
            ],
            "text/html": [
              "<!DOCTYPE html>\n",
              "<html>\n",
              "   <head>\n",
              "      <script type = \"text/javascript\" src = \"https://d3js.org/d3.v4.min.js\"></script>\n",
              "   </head>\n",
              "\n",
              "   <body>\n",
              "    <span>\n",
              "      <h3> Hi this is Transition in D3.js </h3></span>\n",
              "      <script>\n",
              "        \n",
              "         d3.selectAll(\"h3\").transition()\n",
              "            .style(\"font-size\",\"50px\")\n",
              "            .style(\"color\" ,'orange')\n",
              "            .style(\"text-decoration\",\"underline\")\n",
              "            .style(\"transform\",\"rotate(-45deg)\")\n",
              "            .delay(2000).duration(5000);\n",
              "      </script>\n",
              "   </body>\n",
              "</html>\n"
            ]
          },
          "metadata": {}
        }
      ]
    },
    {
      "cell_type": "markdown",
      "source": [
        "D3.js supports animation through transition. We can do animation with proper use of transition. Transitions are a limited form of Key Frame Animation with only two key frames – start and end. The starting key frame is typically the current state of the DOM, and the ending key frame is a set of attributes, styles and other properties you specify. Transitions are well suited for transitioning to a new view without a complicated code that depends on the starting view."
      ],
      "metadata": {
        "id": "xKQdu5iYhxVH"
      }
    },
    {
      "cell_type": "code",
      "source": [],
      "metadata": {
        "id": "3FH23O5Eee0S"
      },
      "execution_count": null,
      "outputs": []
    }
  ]
}